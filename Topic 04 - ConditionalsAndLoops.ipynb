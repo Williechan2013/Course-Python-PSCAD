{
 "cells": [
  {
   "cell_type": "markdown",
   "metadata": {
    "toc": true
   },
   "source": [
    "<h1>Index<span class=\"tocSkip\"></span></h1>\n",
    "<div class=\"toc\"><ul class=\"toc-item\"><li><span><a href=\"#Conditionals\" data-toc-modified-id=\"Conditionals-1\"><span class=\"toc-item-num\">1&nbsp;&nbsp;</span>Conditionals</a></span><ul class=\"toc-item\"><li><span><a href=\"#if,-elif,-and,-or,-not,-any,-all\" data-toc-modified-id=\"if,-elif,-and,-or,-not,-any,-all-1.1\"><span class=\"toc-item-num\">1.1&nbsp;&nbsp;</span>if, elif, and, or, not, any, all</a></span></li><li><span><a href=\"#Exercise\" data-toc-modified-id=\"Exercise-1.2\"><span class=\"toc-item-num\">1.2&nbsp;&nbsp;</span>Exercise</a></span></li><li><span><a href=\"#in\" data-toc-modified-id=\"in-1.3\"><span class=\"toc-item-num\">1.3&nbsp;&nbsp;</span><em>in</em></a></span></li></ul></li><li><span><a href=\"#Loops\" data-toc-modified-id=\"Loops-2\"><span class=\"toc-item-num\">2&nbsp;&nbsp;</span>Loops</a></span><ul class=\"toc-item\"><li><span><a href=\"#while\" data-toc-modified-id=\"while-2.1\"><span class=\"toc-item-num\">2.1&nbsp;&nbsp;</span><em>while</em></a></span></li><li><span><a href=\"#for\" data-toc-modified-id=\"for-2.2\"><span class=\"toc-item-num\">2.2&nbsp;&nbsp;</span><em>for</em></a></span><ul class=\"toc-item\"><li><span><a href=\"#iterating-over-more-than-one-object-or-varaibles\" data-toc-modified-id=\"iterating-over-more-than-one-object-or-varaibles-2.2.1\"><span class=\"toc-item-num\">2.2.1&nbsp;&nbsp;</span>iterating over more than one object or varaibles</a></span></li><li><span><a href=\"#enumerate\" data-toc-modified-id=\"enumerate-2.2.2\"><span class=\"toc-item-num\">2.2.2&nbsp;&nbsp;</span><em>enumerate</em></a></span></li><li><span><a href=\"#range\" data-toc-modified-id=\"range-2.2.3\"><span class=\"toc-item-num\">2.2.3&nbsp;&nbsp;</span><em>range</em></a></span></li></ul></li><li><span><a href=\"#break-and-continue\" data-toc-modified-id=\"break-and-continue-2.3\"><span class=\"toc-item-num\">2.3&nbsp;&nbsp;</span><em>break</em> and <em>continue</em></a></span></li><li><span><a href=\"#List-comprehension\" data-toc-modified-id=\"List-comprehension-2.4\"><span class=\"toc-item-num\">2.4&nbsp;&nbsp;</span>List comprehension</a></span></li></ul></li><li><span><a href=\"#Exercise\" data-toc-modified-id=\"Exercise-3\"><span class=\"toc-item-num\">3&nbsp;&nbsp;</span>Exercise</a></span><ul class=\"toc-item\"><li><span><a href=\"#Hard-excercise\" data-toc-modified-id=\"Hard-excercise-3.1\"><span class=\"toc-item-num\">3.1&nbsp;&nbsp;</span>Hard excercise</a></span></li></ul></li></ul></div>"
   ]
  },
  {
   "cell_type": "markdown",
   "metadata": {},
   "source": [
    "# Conditionals\n",
    "\n",
    "## if, elif, and, or, not, any, all\n",
    "The if structure uses the following form:\n",
    "```Python\n",
    "if condition0 == True or condition1 and condition2 and not condition3:\n",
    "    Code 1\n",
    "    Code 2\n",
    "    if condition:\n",
    "        Code 3\n",
    "elif condition3:\n",
    "    Code 4\n",
    "    Code 5\n",
    "else:\n",
    "    Code 6\n",
    "    \n",
    "```\n",
    "You can see that the code to be run if the condition is True is indented"
   ]
  },
  {
   "cell_type": "code",
   "execution_count": 1,
   "metadata": {},
   "outputs": [
    {
     "name": "stdout",
     "output_type": "stream",
     "text": [
      "Code 6\n"
     ]
    }
   ],
   "source": [
    "condition0 = 0\n",
    "condition1 = 1\n",
    "condition2 = 0\n",
    "condition3 = 0\n",
    "\n",
    "if condition0 == True or condition1 and condition2 and not condition3:\n",
    "    print(\"Code 1\")\n",
    "    print(\"Code 2\")\n",
    "    if not condition1:\n",
    "        print(\"Code 3\")\n",
    "elif all([condition1,condition2,condition3]):\n",
    "    print(\"Code 4\")\n",
    "    print(\"Code 5\")\n",
    "elif any([condition0,condition1,condition2,condition3]):\n",
    "    print(\"Code 6\")\n",
    "else:\n",
    "    print(\"Code 7\")"
   ]
  },
  {
   "cell_type": "markdown",
   "metadata": {},
   "source": [
    "## Exercise\n",
    "\n",
    "Write a code to get the grade acording this:\n",
    "\n",
    "    grade > 90: 'A'\n",
    "    80 < grade <= 90: 'B'\n",
    "    70 < grade <= 80: 'C'\n",
    "    60 < grade <= 70: 'D'\n",
    "    50 < grade <= 60: 'E'\n",
    "     0 < grade <= 50: 'F'"
   ]
  },
  {
   "cell_type": "code",
   "execution_count": 2,
   "metadata": {
    "collapsed": true
   },
   "outputs": [],
   "source": [
    "score = 75.54\n",
    "grade = ''\n",
    "\n",
    "# Your code goes here"
   ]
  },
  {
   "cell_type": "markdown",
   "metadata": {},
   "source": [
    "## *in*\n",
    "It is possible to find an element inside a list with the method **in**."
   ]
  },
  {
   "cell_type": "code",
   "execution_count": 3,
   "metadata": {},
   "outputs": [
    {
     "name": "stdout",
     "output_type": "stream",
     "text": [
      "Found\n"
     ]
    }
   ],
   "source": [
    "a = [1, 2, 3, 4]\n",
    "if 1 in a:\n",
    "    print('Found')"
   ]
  },
  {
   "cell_type": "markdown",
   "metadata": {},
   "source": [
    "# Loops\n",
    "\n",
    "## *while*\n",
    "\n",
    "The form is the same as the if condition: \n",
    "```Python\n",
    "    while (condition):\n",
    "        code\n",
    "```"
   ]
  },
  {
   "cell_type": "code",
   "execution_count": 4,
   "metadata": {},
   "outputs": [
    {
     "name": "stdout",
     "output_type": "stream",
     "text": [
      "['l', 'l', 'l', 'l', 'l', 'l']\n"
     ]
    }
   ],
   "source": [
    "lst = []\n",
    "\n",
    "while len(lst) < 6:\n",
    "    lst.append('l')\n",
    "print(lst)"
   ]
  },
  {
   "cell_type": "markdown",
   "metadata": {},
   "source": [
    "## *for*\n",
    "\n",
    "The basis sintax of for loops is:\n",
    "```Python\n",
    "    for item in objeto:\n",
    "        code\n",
    "```\n",
    "Note that we can iterate over objects.\n",
    "Example:"
   ]
  },
  {
   "cell_type": "code",
   "execution_count": 5,
   "metadata": {},
   "outputs": [
    {
     "name": "stdout",
     "output_type": "stream",
     "text": [
      "[1, 2, 3, 4, 5] [1, 4, 9, 16, 25]\n"
     ]
    }
   ],
   "source": [
    "numbers = [1, 2, 3, 4, 5]\n",
    "squares = []\n",
    "\n",
    "for number in numbers:\n",
    "    squares.append(number ** 2)\n",
    "    \n",
    "print(numbers, squares)"
   ]
  },
  {
   "cell_type": "markdown",
   "metadata": {},
   "source": [
    "Example with dictionaries:"
   ]
  },
  {
   "cell_type": "code",
   "execution_count": 6,
   "metadata": {},
   "outputs": [
    {
     "name": "stdout",
     "output_type": "stream",
     "text": [
      "1\n",
      "2\n"
     ]
    }
   ],
   "source": [
    "fruits = {1: 'banana', 2:'apple'}\n",
    "\n",
    "for key in fruits:\n",
    "    print(key)"
   ]
  },
  {
   "cell_type": "code",
   "execution_count": 7,
   "metadata": {},
   "outputs": [
    {
     "name": "stdout",
     "output_type": "stream",
     "text": [
      "banana\n",
      "apple\n"
     ]
    }
   ],
   "source": [
    "for value in fruits.values():\n",
    "    print(value)"
   ]
  },
  {
   "cell_type": "code",
   "execution_count": 8,
   "metadata": {},
   "outputs": [
    {
     "name": "stdout",
     "output_type": "stream",
     "text": [
      "(1, 'banana')\n",
      "(2, 'apple')\n"
     ]
    }
   ],
   "source": [
    "for item in fruits.items():\n",
    "    print(item)"
   ]
  },
  {
   "cell_type": "markdown",
   "metadata": {},
   "source": [
    "### iterating over more than one object or varaibles\n"
   ]
  },
  {
   "cell_type": "code",
   "execution_count": 9,
   "metadata": {},
   "outputs": [
    {
     "name": "stdout",
     "output_type": "stream",
     "text": [
      "1 banana\n",
      "2 apple\n"
     ]
    }
   ],
   "source": [
    "for key, value in fruits.items():\n",
    "    print(key, value)"
   ]
  },
  {
   "cell_type": "code",
   "execution_count": 10,
   "metadata": {},
   "outputs": [
    {
     "name": "stdout",
     "output_type": "stream",
     "text": [
      "rice and potato\n",
      "sugar and candy\n",
      "salt and soup\n"
     ]
    }
   ],
   "source": [
    "list1 = ['rice', 'sugar', 'salt']\n",
    "list2 = ['potato', 'candy', 'soup']\n",
    "\n",
    "for a, b in zip(list1, list2):\n",
    "    print(f'{a} and {b}')"
   ]
  },
  {
   "cell_type": "markdown",
   "metadata": {},
   "source": [
    "### *enumerate*\n",
    "If you want to know what the iteration index is, that is, how many times the loop repeated, you can use **enumerate**, which returns the position and item of the iteration."
   ]
  },
  {
   "cell_type": "code",
   "execution_count": 11,
   "metadata": {},
   "outputs": [
    {
     "name": "stdout",
     "output_type": "stream",
     "text": [
      "1) Canada\n",
      "2) India\n",
      "3) China\n"
     ]
    }
   ],
   "source": [
    "countries = ['Canada', 'India', 'China']\n",
    "\n",
    "for index, country in enumerate(countries):\n",
    "    print(f'{index + 1}) {country}')"
   ]
  },
  {
   "cell_type": "markdown",
   "metadata": {},
   "source": [
    "### *range*\n",
    "\n",
    "**range** is used to control loops using a range of numbers. These numbers are not generated automatically, but every iteration. Example."
   ]
  },
  {
   "cell_type": "code",
   "execution_count": 12,
   "metadata": {},
   "outputs": [
    {
     "name": "stdout",
     "output_type": "stream",
     "text": [
      "3 is odd!\n",
      "9 is odd!\n",
      "15 is odd!\n"
     ]
    }
   ],
   "source": [
    "for number in range(0,20,3): # Begin, end, step\n",
    "    if number % 2:\n",
    "        print(f'{number} is odd!')"
   ]
  },
  {
   "cell_type": "markdown",
   "metadata": {},
   "source": [
    "## *break* and *continue*\n",
    "\n",
    "Inome cases, it is necessary to enforce conditions that cause a loop to terminate early, or for a loop to ignore part or all of the code and proceed to the next item. For this, the keywords ** break ** and **continue** are used."
   ]
  },
  {
   "cell_type": "code",
   "execution_count": 13,
   "metadata": {},
   "outputs": [
    {
     "name": "stdout",
     "output_type": "stream",
     "text": [
      "[1, 4, 9, 16, 25]\n"
     ]
    }
   ],
   "source": [
    "number = 1\n",
    "square = []\n",
    "\n",
    "while True:\n",
    "    square.append(number ** 2)\n",
    "    if number == 5:\n",
    "        break  \n",
    "    number += 1\n",
    "\n",
    "print(square)"
   ]
  },
  {
   "cell_type": "code",
   "execution_count": 14,
   "metadata": {},
   "outputs": [
    {
     "name": "stdout",
     "output_type": "stream",
     "text": [
      "['We', 'in', 'PSCAD']\n"
     ]
    }
   ],
   "source": [
    "text = ['We', 'want', 'to', 'automate', 'simulations', 'in', 'PSCAD']\n",
    "text_without_t = []\n",
    "\n",
    "for word in text:\n",
    "    if 't' in word:\n",
    "        continue\n",
    "    text_without_t.append(word)\n",
    "\n",
    "print(text_without_t)"
   ]
  },
  {
   "cell_type": "markdown",
   "metadata": {},
   "source": [
    "## List comprehension\n",
    "\n",
    "With this feature instead of having to generate a for loop to generate a list, you can do everything on one line. The syntax is a bit tricky to understand at first, but understanding how a *list comprehension* works is much desired. \n",
    "\n",
    "The syntax is:\n",
    "```Python\n",
    "      [operation for index in object1 [if condition1] [for object2] [if condition2]...]\n",
    "```  \n",
    "Example:"
   ]
  },
  {
   "cell_type": "code",
   "execution_count": 15,
   "metadata": {},
   "outputs": [
    {
     "name": "stdout",
     "output_type": "stream",
     "text": [
      "Numbers: [1, 2, 3, 4, 5]\n",
      "Squares: [1, 4, 9, 16, 25]\n",
      "Numbers and squares: ['1:1', '2:4', '3:9', '4:16', '5:25']\n"
     ]
    }
   ],
   "source": [
    "numbers = [i for i in range(1,6)]\n",
    "squares = [i**2 for i in range(1, 6)]\n",
    "squares2 = [f'{i}:{i**2}' for i in range(1, 6)]  # Os iteradores podem ser utilizados de maneira complexa\n",
    "print('Numbers:', numbers)\n",
    "print('Squares:', squares)\n",
    "print('Numbers and squares:', squares2)"
   ]
  },
  {
   "cell_type": "code",
   "execution_count": 16,
   "metadata": {},
   "outputs": [
    {
     "data": {
      "text/plain": [
       "['We', 'in', 'PSCAD']"
      ]
     },
     "execution_count": 16,
     "metadata": {},
     "output_type": "execute_result"
    }
   ],
   "source": [
    "text = ['We', 'want', 'to', 'automate', 'simulations', 'in', 'PSCAD']\n",
    "text_without_t = [i for i in text if 't' not in i]\n",
    "text_without_t"
   ]
  },
  {
   "cell_type": "markdown",
   "metadata": {},
   "source": [
    "# Exercise \n",
    "Using list comprehension and enumerate create a list of tuples with the numbers 0 to 10 in the fisrt field and their third power in the second field, as seen below:\n",
    "```python\n",
    "[(0, 1419857),\n",
    " (1, 380204032),\n",
    " (2, 184528125),\n",
    " (3, 100000),\n",
    " (4, 1024),\n",
    " (5, 16807),\n",
    " (6, 243),\n",
    " (7, 5584059449),\n",
    " (8, 248832),\n",
    " (9, 7776)]\n",
    "```"
   ]
  },
  {
   "cell_type": "code",
   "execution_count": null,
   "metadata": {},
   "outputs": [],
   "source": []
  },
  {
   "cell_type": "markdown",
   "metadata": {},
   "source": [
    "## Hard excercise\n",
    "Using the concepts learned so far create a code to print a Rhombus of any dimension in the screen.\n",
    "Example:\n",
    "```python\n",
    "          *          \n",
    "         ***         \n",
    "        *****        \n",
    "       *******       \n",
    "      *********      \n",
    "     ***********     \n",
    "    *************    \n",
    "   ***************   \n",
    "  *****************  \n",
    " ******************* \n",
    "*********************\n",
    " ******************* \n",
    "  *****************  \n",
    "   ***************   \n",
    "    *************    \n",
    "     ***********     \n",
    "      *********      \n",
    "       *******       \n",
    "        *****        \n",
    "         ***         \n",
    "          *    \n",
    "```"
   ]
  },
  {
   "cell_type": "code",
   "execution_count": null,
   "metadata": {
    "solution2": "hidden"
   },
   "outputs": [],
   "source": []
  }
 ],
 "metadata": {
  "hide_input": false,
  "kernelspec": {
   "display_name": "Python 3",
   "language": "python",
   "name": "python3"
  },
  "language_info": {
   "codemirror_mode": {
    "name": "ipython",
    "version": 3
   },
   "file_extension": ".py",
   "mimetype": "text/x-python",
   "name": "python",
   "nbconvert_exporter": "python",
   "pygments_lexer": "ipython3",
   "version": "3.7.3"
  },
  "toc": {
   "base_numbering": 1,
   "nav_menu": {},
   "number_sections": true,
   "sideBar": true,
   "skip_h1_title": false,
   "title_cell": "Index",
   "title_sidebar": "Index",
   "toc_cell": true,
   "toc_position": {
    "height": "calc(100% - 180px)",
    "left": "10px",
    "top": "150px",
    "width": "307px"
   },
   "toc_section_display": true,
   "toc_window_display": true
  },
  "varInspector": {
   "cols": {
    "lenName": 16,
    "lenType": 16,
    "lenVar": 40
   },
   "kernels_config": {
    "python": {
     "delete_cmd_postfix": "",
     "delete_cmd_prefix": "del ",
     "library": "var_list.py",
     "varRefreshCmd": "print(var_dic_list())"
    },
    "r": {
     "delete_cmd_postfix": ") ",
     "delete_cmd_prefix": "rm(",
     "library": "var_list.r",
     "varRefreshCmd": "cat(var_dic_list()) "
    }
   },
   "types_to_exclude": [
    "module",
    "function",
    "builtin_function_or_method",
    "instance",
    "_Feature"
   ],
   "window_display": false
  }
 },
 "nbformat": 4,
 "nbformat_minor": 2
}

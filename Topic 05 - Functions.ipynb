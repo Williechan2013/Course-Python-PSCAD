{
 "cells": [
  {
   "cell_type": "markdown",
   "metadata": {
    "toc": true
   },
   "source": [
    "<h1>Index<span class=\"tocSkip\"></span></h1>\n",
    "<div class=\"toc\"><ul class=\"toc-item\"><li><span><a href=\"#Functions\" data-toc-modified-id=\"Functions-1\"><span class=\"toc-item-num\">1&nbsp;&nbsp;</span>Functions</a></span><ul class=\"toc-item\"><li><span><a href=\"#Functions-with-variable-length-arguments\" data-toc-modified-id=\"Functions-with-variable-length-arguments-1.1\"><span class=\"toc-item-num\">1.1&nbsp;&nbsp;</span>Functions with variable length arguments</a></span></li><li><span><a href=\"#Functions-with-*-and-**-arguments\" data-toc-modified-id=\"Functions-with-*-and-**-arguments-1.2\"><span class=\"toc-item-num\">1.2&nbsp;&nbsp;</span>Functions with * and ** arguments</a></span></li></ul></li><li><span><a href=\"#Error-handling\" data-toc-modified-id=\"Error-handling-2\"><span class=\"toc-item-num\">2&nbsp;&nbsp;</span>Error handling</a></span></li><li><span><a href=\"#Local-and-global-variables\" data-toc-modified-id=\"Local-and-global-variables-3\"><span class=\"toc-item-num\">3&nbsp;&nbsp;</span>Local and global variables</a></span><ul class=\"toc-item\"><li><span><a href=\"#Exercise\" data-toc-modified-id=\"Exercise-3.1\"><span class=\"toc-item-num\">3.1&nbsp;&nbsp;</span>Exercise</a></span></li></ul></li></ul></div>"
   ]
  },
  {
   "cell_type": "markdown",
   "metadata": {},
   "source": [
    "# Functions\n",
    "\n",
    "To create a function we have to use the following syntax:\n",
    "```Python\n",
    "def functionName(inputArgument1, inputArgument2,inputArgumentn):\n",
    "    code\n",
    "    return output1, output2, outputn\n",
    "```\n",
    "\n",
    "To use the previous function we will use the next syntax:\n",
    "```Python\n",
    "output1, output2, outputn = functionName(inputArgument1, inputArgument2,inputArgumentn)\n",
    "```\n",
    "\n",
    "It is also possible to create fucntions without inputs or outputs arguments.\n",
    "\n",
    "Examples:"
   ]
  },
  {
   "cell_type": "code",
   "execution_count": 1,
   "metadata": {},
   "outputs": [
    {
     "name": "stdout",
     "output_type": "stream",
     "text": [
      "Nothing\n"
     ]
    }
   ],
   "source": [
    "def function(speed):\n",
    "    \"\"\"Documentation of your function\"\"\"\n",
    "    a = 5\n",
    "    b = speed\n",
    "    print ('Nothing')\n",
    "    \n",
    "a = function(2)\n",
    "print(a)"
   ]
  },
  {
   "cell_type": "code",
   "execution_count": 2,
   "metadata": {},
   "outputs": [
    {
     "name": "stdout",
     "output_type": "stream",
     "text": [
      "5 5\n"
     ]
    }
   ],
   "source": [
    "def function2(speed):\n",
    "    a = 5\n",
    "    b = speed\n",
    "    return a,b\n",
    "\n",
    "a,b = function2(5)\n",
    "print(a,b)"
   ]
  },
  {
   "cell_type": "markdown",
   "metadata": {},
   "source": [
    "## Functions with variable length arguments\n",
    "You can create functions with predefined parameters that can be changed when calling the function:\n",
    "```Python\n",
    "def functionName(inputArgument1, inputArgument2 = value1, inputArgumentn = value2):\n",
    "    code\n",
    "    return output1, output2, outputn\n",
    "```\n",
    "Example:"
   ]
  },
  {
   "cell_type": "code",
   "execution_count": 3,
   "metadata": {},
   "outputs": [
    {
     "name": "stdout",
     "output_type": "stream",
     "text": [
      "The speed is 2.0 km/h\n"
     ]
    }
   ],
   "source": [
    "def speed(pos, time = 5):\n",
    "    speed = pos / time\n",
    "    print('The speed is {} km/h'.format(speed))\n",
    "    return speed, time\n",
    "\n",
    "v, t = speed(10)"
   ]
  },
  {
   "cell_type": "code",
   "execution_count": 4,
   "metadata": {},
   "outputs": [
    {
     "name": "stdout",
     "output_type": "stream",
     "text": [
      "The speed is 1.0 km/h\n"
     ]
    }
   ],
   "source": [
    "v, t = speed(10,10)"
   ]
  },
  {
   "cell_type": "code",
   "execution_count": 5,
   "metadata": {},
   "outputs": [
    {
     "name": "stdout",
     "output_type": "stream",
     "text": [
      "The speed is 1.0 km/h\n"
     ]
    }
   ],
   "source": [
    "v, t = speed(10,time = 10)"
   ]
  },
  {
   "cell_type": "markdown",
   "metadata": {},
   "source": [
    "## Functions with * and ** arguments\n",
    "You can create functions that accept an indefinite number of arguments and optional arguments. Optional arguments can be with no keywords. Arguments without keywords are denoted as ```*arg```, while arguments with keywords are denoted as ```**kwarg```.\n",
    "\n",
    "Examples:"
   ]
  },
  {
   "cell_type": "code",
   "execution_count": 6,
   "metadata": {},
   "outputs": [
    {
     "name": "stdout",
     "output_type": "stream",
     "text": [
      "20\n",
      "90\n",
      "24\n",
      "6048000\n"
     ]
    }
   ],
   "source": [
    "def multiply(*args):\n",
    "    z = 1\n",
    "    for num in args:\n",
    "        z *= num\n",
    "    print(z)\n",
    "\n",
    "multiply(4, 5)\n",
    "multiply(10, 9)\n",
    "multiply(2, 3, 4)\n",
    "multiply(3, 5, 10, 6,4,5,6,7,8)"
   ]
  },
  {
   "cell_type": "code",
   "execution_count": 7,
   "metadata": {},
   "outputs": [
    {
     "name": "stdout",
     "output_type": "stream",
     "text": [
      "Extra argument = pos\n",
      "New value for potition = 100\n",
      "Extra argument = arg\n",
      "The speed is 100.0\n"
     ]
    }
   ],
   "source": [
    "def function1(time, **kwarg):\n",
    "    pos = 10\n",
    "    \n",
    "    #Verify the kwargs\n",
    "    for arg in kwarg:\n",
    "        print('Extra argument = ' + str(arg))\n",
    "        if arg == 'pos':\n",
    "            print ('New value for potition = ' + str(kwarg[arg]))\n",
    "            pos = kwarg[arg]\n",
    "    \n",
    "    speed = pos / time\n",
    "    \n",
    "    print('The speed is ' + str(speed))\n",
    "    return \n",
    "\n",
    "function1(1, pos = 100, arg = 10)"
   ]
  },
  {
   "cell_type": "code",
   "execution_count": 8,
   "metadata": {},
   "outputs": [
    {
     "name": "stdout",
     "output_type": "stream",
     "text": [
      "The sum is 8\n",
      "My name is Jhair\n",
      "My surename is Acosta\n"
     ]
    }
   ],
   "source": [
    "def function2(*args, **kwargs):\n",
    "    z = 1\n",
    "    for num in args:\n",
    "        z += num\n",
    "    print('The sum is {}'.format(z))\n",
    "    \n",
    "    for key, value in kwargs.items():\n",
    "        print(\"My {} is {}\".format(key, value))\n",
    "        \n",
    "function2 (1, 2, 3, 1, name = 'Jhair', surename = 'Acosta')\n",
    "    "
   ]
  },
  {
   "cell_type": "markdown",
   "metadata": {},
   "source": [
    "If you have doubts you can check in [link](https://www.digitalocean.com/community/tutorials/how-to-use-args-and-kwargs-in-python-3)"
   ]
  },
  {
   "cell_type": "markdown",
   "metadata": {},
   "source": [
    "# Error handling\n",
    "\n",
    "You can handle known errors with this syntax:\n",
    "```Python\n",
    "    try:\n",
    "        code\n",
    "    except:\n",
    "        code\n",
    "```\n",
    "\n",
    "Examples:"
   ]
  },
  {
   "cell_type": "code",
   "execution_count": 9,
   "metadata": {},
   "outputs": [
    {
     "name": "stdout",
     "output_type": "stream",
     "text": [
      "It is not possible convert strings to int!\n"
     ]
    }
   ],
   "source": [
    "try:\n",
    "    int('abc')\n",
    "except ValueError:\n",
    "    print('It is not possible convert strings to int!')"
   ]
  },
  {
   "cell_type": "markdown",
   "metadata": {},
   "source": [
    "#  Local and global variables\n",
    "\n",
    "Everything defined outside functions is a global variable. Inside functions, they are local. "
   ]
  },
  {
   "cell_type": "code",
   "execution_count": 10,
   "metadata": {},
   "outputs": [
    {
     "name": "stdout",
     "output_type": "stream",
     "text": [
      "I am global\n"
     ]
    },
    {
     "ename": "NameError",
     "evalue": "name 'local1' is not defined",
     "output_type": "error",
     "traceback": [
      "\u001b[1;31m---------------------------------------------------------------------------\u001b[0m",
      "\u001b[1;31mNameError\u001b[0m                                 Traceback (most recent call last)",
      "\u001b[1;32m<ipython-input-10-ace730366a65>\u001b[0m in \u001b[0;36m<module>\u001b[1;34m()\u001b[0m\n\u001b[0;32m      6\u001b[0m \u001b[1;33m\u001b[0m\u001b[0m\n\u001b[0;32m      7\u001b[0m \u001b[0mfunc1\u001b[0m\u001b[1;33m(\u001b[0m\u001b[1;33m)\u001b[0m\u001b[1;33m\u001b[0m\u001b[0m\n\u001b[1;32m----> 8\u001b[1;33m \u001b[0mprint\u001b[0m\u001b[1;33m(\u001b[0m\u001b[0mlocal1\u001b[0m\u001b[1;33m)\u001b[0m\u001b[1;33m\u001b[0m\u001b[0m\n\u001b[0m",
      "\u001b[1;31mNameError\u001b[0m: name 'local1' is not defined"
     ]
    }
   ],
   "source": [
    "global1 = 'I am global'\n",
    "\n",
    "def func1():\n",
    "    local1 = 'I am local'\n",
    "    print(global1)\n",
    "\n",
    "func1()\n",
    "print(local1)"
   ]
  },
  {
   "cell_type": "markdown",
   "metadata": {},
   "source": [
    "## Exercise\n",
    "\n",
    "Create a function to simulate the control of the switches under different fault cases. Example, if a fault occurs in 90% of line lenght switch B has to open first than swiftch A. If the fault occurs at 100 ms the switches have to opperate 100 ms later. If there is a single-phase fault the tripping have to be single, otherwise tripolar. \n",
    "\n",
    "Example:\n",
    "```python\n",
    "faultType =  {\"Single phase\":1}\n",
    "faultPoint = 90\n",
    "faultTime = 0.1\n",
    "\n",
    "faults(faultPoint,faultType,faultTime)\n",
    "```\n",
    "\n",
    "Output:\n",
    "```matlab\n",
    "Single phase fault with value 1 at 90% of line lenght in 0.1 s\n",
    "Switch operation times: A in 0.22 s, B in 0.2 s\n",
    "```"
   ]
  },
  {
   "cell_type": "code",
   "execution_count": null,
   "metadata": {
    "collapsed": true
   },
   "outputs": [],
   "source": [
    "# Seu código"
   ]
  }
 ],
 "metadata": {
  "kernelspec": {
   "display_name": "Python 3",
   "language": "python",
   "name": "python3"
  },
  "language_info": {
   "codemirror_mode": {
    "name": "ipython",
    "version": 3
   },
   "file_extension": ".py",
   "mimetype": "text/x-python",
   "name": "python",
   "nbconvert_exporter": "python",
   "pygments_lexer": "ipython3",
   "version": "3.7.3"
  },
  "toc": {
   "base_numbering": 1,
   "nav_menu": {},
   "number_sections": true,
   "sideBar": true,
   "skip_h1_title": false,
   "title_cell": "Index",
   "title_sidebar": "Index",
   "toc_cell": true,
   "toc_position": {},
   "toc_section_display": true,
   "toc_window_display": true
  },
  "varInspector": {
   "cols": {
    "lenName": 16,
    "lenType": 16,
    "lenVar": 40
   },
   "kernels_config": {
    "python": {
     "delete_cmd_postfix": "",
     "delete_cmd_prefix": "del ",
     "library": "var_list.py",
     "varRefreshCmd": "print(var_dic_list())"
    },
    "r": {
     "delete_cmd_postfix": ") ",
     "delete_cmd_prefix": "rm(",
     "library": "var_list.r",
     "varRefreshCmd": "cat(var_dic_list()) "
    }
   },
   "types_to_exclude": [
    "module",
    "function",
    "builtin_function_or_method",
    "instance",
    "_Feature"
   ],
   "window_display": false
  }
 },
 "nbformat": 4,
 "nbformat_minor": 2
}

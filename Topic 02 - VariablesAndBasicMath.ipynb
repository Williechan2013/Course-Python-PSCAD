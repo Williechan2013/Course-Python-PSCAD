{
 "cells": [
  {
   "cell_type": "markdown",
   "metadata": {
    "toc": true
   },
   "source": [
    "<h1>Index<span class=\"tocSkip\"></span></h1>\n",
    "<div class=\"toc\"><ul class=\"toc-item\"><li><span><a href=\"#Mathematical-operations\" data-toc-modified-id=\"Mathematical-operations-1\"><span class=\"toc-item-num\">1&nbsp;&nbsp;</span>Mathematical operations</a></span><ul class=\"toc-item\"><li><span><a href=\"#Operations-with-strings\" data-toc-modified-id=\"Operations-with-strings-1.1\"><span class=\"toc-item-num\">1.1&nbsp;&nbsp;</span>Operations with strings</a></span></li></ul></li><li><span><a href=\"#Logic-Operations\" data-toc-modified-id=\"Logic-Operations-2\"><span class=\"toc-item-num\">2&nbsp;&nbsp;</span>Logic Operations</a></span></li><li><span><a href=\"#Variables\" data-toc-modified-id=\"Variables-3\"><span class=\"toc-item-num\">3&nbsp;&nbsp;</span>Variables</a></span><ul class=\"toc-item\"><li><span><a href=\"#Changing-variable-types\" data-toc-modified-id=\"Changing-variable-types-3.1\"><span class=\"toc-item-num\">3.1&nbsp;&nbsp;</span>Changing variable types</a></span></li><li><span><a href=\"#Mixing-numbers-and-strings:\" data-toc-modified-id=\"Mixing-numbers-and-strings:-3.2\"><span class=\"toc-item-num\">3.2&nbsp;&nbsp;</span>Mixing numbers and strings:</a></span></li></ul></li><li><span><a href=\"#Exercise\" data-toc-modified-id=\"Exercise-4\"><span class=\"toc-item-num\">4&nbsp;&nbsp;</span>Exercise</a></span></li></ul></div>"
   ]
  },
  {
   "cell_type": "markdown",
   "metadata": {},
   "source": [
    "# Mathematical operations"
   ]
  },
  {
   "cell_type": "code",
   "execution_count": 1,
   "metadata": {},
   "outputs": [
    {
     "name": "stdout",
     "output_type": "stream",
     "text": [
      "3 \t <class 'int'>\n",
      "-1.0 \t <class 'float'>\n",
      "2j \t <class 'complex'>\n",
      "0.5 \t <class 'float'>\n",
      "1 \t <class 'int'>\n",
      "3 \t <class 'int'>\n",
      "1000 \t <class 'int'>\n"
     ]
    }
   ],
   "source": [
    "print(1 +  2, '\\t', type(1 + 2)) \n",
    "print(1. - 2, '\\t', type(1. - 2))  \n",
    "print(1 * 2j, '\\t', type(1*2j))  \n",
    "print(1 /  2, '\\t', type(1/2))  \n",
    "print(10 % 3, '\\t', type(10 % 3))  \n",
    "print(10 // 3,'\\t', type(10 // 3)) \n",
    "print(10 ** 3,'\\t', type(10 ** 3)) "
   ]
  },
  {
   "cell_type": "markdown",
   "metadata": {},
   "source": [
    "## Operations with strings\n",
    "\n",
    "The operator **+** also allows you to concatenate strings:"
   ]
  },
  {
   "cell_type": "code",
   "execution_count": 1,
   "metadata": {},
   "outputs": [
    {
     "name": "stdout",
     "output_type": "stream",
     "text": [
      "ABCdef <class 'str'>\n"
     ]
    }
   ],
   "source": [
    "print('ABC' + 'def', type('ABC' + 'def'))"
   ]
  },
  {
   "cell_type": "markdown",
   "metadata": {},
   "source": [
    "# Logic Operations"
   ]
  },
  {
   "cell_type": "code",
   "execution_count": 3,
   "metadata": {},
   "outputs": [
    {
     "name": "stdout",
     "output_type": "stream",
     "text": [
      "True\n",
      "False\n",
      "True\n",
      "True\n",
      "False\n",
      "False\n"
     ]
    }
   ],
   "source": [
    "a = 1\n",
    "b = a\n",
    "c = 2\n",
    "d = 3\n",
    "\n",
    "print(a == b)\n",
    "print(a != b)\n",
    "print(a < c)\n",
    "print(a <= c)\n",
    "print(a > c)\n",
    "print(a >= c)"
   ]
  },
  {
   "cell_type": "markdown",
   "metadata": {},
   "source": [
    "# Variables\n",
    "You can assing a variable using ```name = value```"
   ]
  },
  {
   "cell_type": "code",
   "execution_count": 4,
   "metadata": {},
   "outputs": [
    {
     "name": "stdout",
     "output_type": "stream",
     "text": [
      "3\n"
     ]
    }
   ],
   "source": [
    "a = 1\n",
    "b = 2\n",
    "c = a + b\n",
    "print(c)"
   ]
  },
  {
   "cell_type": "code",
   "execution_count": 5,
   "metadata": {},
   "outputs": [
    {
     "name": "stdout",
     "output_type": "stream",
     "text": [
      "12\n"
     ]
    }
   ],
   "source": [
    "a = '1'\n",
    "b = '2'\n",
    "c = a + b\n",
    "print(c)"
   ]
  },
  {
   "cell_type": "markdown",
   "metadata": {},
   "source": [
    "## Changing variable types\n",
    "\n",
    "You can change a variable type using the functions:\n",
    "```python\n",
    "int(), float(), bool(), complex(), str() \n",
    "```"
   ]
  },
  {
   "cell_type": "code",
   "execution_count": 6,
   "metadata": {},
   "outputs": [
    {
     "name": "stdout",
     "output_type": "stream",
     "text": [
      "3\n"
     ]
    }
   ],
   "source": [
    "a = '1'\n",
    "b = '2'\n",
    "a = int(a)\n",
    "b = int(b)\n",
    "c = a + b\n",
    "print(c)"
   ]
  },
  {
   "cell_type": "markdown",
   "metadata": {},
   "source": [
    "Or:"
   ]
  },
  {
   "cell_type": "code",
   "execution_count": 7,
   "metadata": {},
   "outputs": [
    {
     "name": "stdout",
     "output_type": "stream",
     "text": [
      "12\n"
     ]
    }
   ],
   "source": [
    "a = 1\n",
    "b = 2\n",
    "a = str(a)\n",
    "b = str(b)\n",
    "c = a + b\n",
    "print(c)"
   ]
  },
  {
   "cell_type": "markdown",
   "metadata": {},
   "source": [
    "## Mixing numbers and strings:\n",
    "\n",
    "It is required when you need to show in the screen the result of a simulation. You can do it in different ways:"
   ]
  },
  {
   "cell_type": "code",
   "execution_count": 8,
   "metadata": {},
   "outputs": [
    {
     "name": "stdout",
     "output_type": "stream",
     "text": [
      "The result is 3.252627\n",
      "The result is 3.252627\n",
      "The result is 3.25\n",
      "The result is 3.25\n",
      "The result is 3.25\n",
      "The result is 3.25\n"
     ]
    }
   ],
   "source": [
    "result = 3.252627\n",
    "print ('The result is %s' % result)\n",
    "print ('The result is ' +  str(result))\n",
    "print ('The result is ' +  str(round(result,2)))\n",
    "print ('The result is {}'.format(round(result, 2)) )\n",
    "print ('The result is {0:.2f}'.format(result))\n",
    "print (f'The result is {result:.2f}')"
   ]
  },
  {
   "cell_type": "markdown",
   "metadata": {},
   "source": [
    "If you have some doubts you can look in [internet](https://docs.python.org/3.7/library/string.html?highlight=string%20float%20notation#format-string-syntax)."
   ]
  },
  {
   "cell_type": "markdown",
   "metadata": {},
   "source": [
    "# Exercise\n",
    "Create independent variables for your name, age, and nationality. Then, with just one print function show all of them in the screen"
   ]
  },
  {
   "cell_type": "code",
   "execution_count": 9,
   "metadata": {
    "collapsed": true,
    "jupyter": {
     "outputs_hidden": true
    }
   },
   "outputs": [],
   "source": [
    "# write your code here"
   ]
  }
 ],
 "metadata": {
  "hide_input": false,
  "kernelspec": {
   "display_name": "Python 3",
   "language": "python",
   "name": "python3"
  },
  "language_info": {
   "codemirror_mode": {
    "name": "ipython",
    "version": 3
   },
   "file_extension": ".py",
   "mimetype": "text/x-python",
   "name": "python",
   "nbconvert_exporter": "python",
   "pygments_lexer": "ipython3",
   "version": "3.7.3"
  },
  "toc": {
   "base_numbering": 1,
   "nav_menu": {},
   "number_sections": true,
   "sideBar": true,
   "skip_h1_title": false,
   "title_cell": "Index",
   "title_sidebar": "Index",
   "toc_cell": true,
   "toc_position": {},
   "toc_section_display": true,
   "toc_window_display": true
  },
  "varInspector": {
   "cols": {
    "lenName": 16,
    "lenType": 16,
    "lenVar": 40
   },
   "kernels_config": {
    "python": {
     "delete_cmd_postfix": "",
     "delete_cmd_prefix": "del ",
     "library": "var_list.py",
     "varRefreshCmd": "print(var_dic_list())"
    },
    "r": {
     "delete_cmd_postfix": ") ",
     "delete_cmd_prefix": "rm(",
     "library": "var_list.r",
     "varRefreshCmd": "cat(var_dic_list()) "
    }
   },
   "types_to_exclude": [
    "module",
    "function",
    "builtin_function_or_method",
    "instance",
    "_Feature"
   ],
   "window_display": false
  }
 },
 "nbformat": 4,
 "nbformat_minor": 4
}

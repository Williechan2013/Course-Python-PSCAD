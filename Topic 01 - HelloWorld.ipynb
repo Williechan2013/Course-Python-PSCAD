{
 "cells": [
  {
   "cell_type": "markdown",
   "metadata": {
    "toc": true
   },
   "source": [
    "<h1>Index<span class=\"tocSkip\"></span></h1>\n",
    "<div class=\"toc\"><ul class=\"toc-item\"><li><span><a href=\"#Hello-world\" data-toc-modified-id=\"Hello-world-1\"><span class=\"toc-item-num\">1&nbsp;&nbsp;</span>Hello world</a></span></li><li><span><a href=\"#Getting-help\" data-toc-modified-id=\"Getting-help-2\"><span class=\"toc-item-num\">2&nbsp;&nbsp;</span>Getting help</a></span></li><li><span><a href=\"#Differences-with-Matlab\" data-toc-modified-id=\"Differences-with-Matlab-3\"><span class=\"toc-item-num\">3&nbsp;&nbsp;</span>Differences with <em>Matlab</em></a></span><ul class=\"toc-item\"><li><span><a href=\"#Indexing\" data-toc-modified-id=\"Indexing-3.1\"><span class=\"toc-item-num\">3.1&nbsp;&nbsp;</span>Indexing</a></span></li><li><span><a href=\"#Exponentiation\" data-toc-modified-id=\"Exponentiation-3.2\"><span class=\"toc-item-num\">3.2&nbsp;&nbsp;</span>Exponentiation</a></span></li><li><span><a href=\"#Object-Orientation\" data-toc-modified-id=\"Object-Orientation-3.3\"><span class=\"toc-item-num\">3.3&nbsp;&nbsp;</span>Object Orientation</a></span></li></ul></li><li><span><a href=\"#Data-Types\" data-toc-modified-id=\"Data-Types-4\"><span class=\"toc-item-num\">4&nbsp;&nbsp;</span>Data Types</a></span><ul class=\"toc-item\"><li><span><a href=\"#Numerics-(Wikipedia)\" data-toc-modified-id=\"Numerics-(Wikipedia)-4.1\"><span class=\"toc-item-num\">4.1&nbsp;&nbsp;</span>Numerics (<a href=\"https://en.wikibooks.org/wiki/Python_Programming/Data_Types\" target=\"_blank\">Wikipedia</a>)</a></span><ul class=\"toc-item\"><li><span><a href=\"#int---Integers:\" data-toc-modified-id=\"int---Integers:-4.1.1\"><span class=\"toc-item-num\">4.1.1&nbsp;&nbsp;</span>int - Integers:</a></span></li><li><span><a href=\"#float---Floating-Point-numbers:\" data-toc-modified-id=\"float---Floating-Point-numbers:-4.1.2\"><span class=\"toc-item-num\">4.1.2&nbsp;&nbsp;</span>float - Floating-Point numbers:</a></span></li><li><span><a href=\"#boolean---True-or-False:\" data-toc-modified-id=\"boolean---True-or-False:-4.1.3\"><span class=\"toc-item-num\">4.1.3&nbsp;&nbsp;</span>boolean - True or False:</a></span></li><li><span><a href=\"#complex---Complex-Numbers:\" data-toc-modified-id=\"complex---Complex-Numbers:-4.1.4\"><span class=\"toc-item-num\">4.1.4&nbsp;&nbsp;</span>complex - Complex Numbers:</a></span></li></ul></li><li><span><a href=\"#Strings\" data-toc-modified-id=\"Strings-4.2\"><span class=\"toc-item-num\">4.2&nbsp;&nbsp;</span>Strings</a></span><ul class=\"toc-item\"><li><span><a href=\"#Escape-Characters\" data-toc-modified-id=\"Escape-Characters-4.2.1\"><span class=\"toc-item-num\">4.2.1&nbsp;&nbsp;</span><em>Escape Characters</em></a></span></li><li><span><a href=\"#raw-strings\" data-toc-modified-id=\"raw-strings-4.2.2\"><span class=\"toc-item-num\">4.2.2&nbsp;&nbsp;</span><em>raw</em> strings</a></span></li></ul></li><li><span><a href=\"#Objects\" data-toc-modified-id=\"Objects-4.3\"><span class=\"toc-item-num\">4.3&nbsp;&nbsp;</span>Objects</a></span><ul class=\"toc-item\"><li><span><a href=\"#Using-the-internal-properties-and-methods\" data-toc-modified-id=\"Using-the-internal-properties-and-methods-4.3.1\"><span class=\"toc-item-num\">4.3.1&nbsp;&nbsp;</span>Using the internal properties and methods</a></span></li></ul></li></ul></li><li><span><a href=\"#Exercise\" data-toc-modified-id=\"Exercise-5\"><span class=\"toc-item-num\">5&nbsp;&nbsp;</span>Exercise</a></span><ul class=\"toc-item\"><li><span><a href=\"#Use-of-print()-method\" data-toc-modified-id=\"Use-of-print()-method-5.1\"><span class=\"toc-item-num\">5.1&nbsp;&nbsp;</span>Use of print() method</a></span></li><li><span><a href=\"#Test-unknown-functions\" data-toc-modified-id=\"Test-unknown-functions-5.2\"><span class=\"toc-item-num\">5.2&nbsp;&nbsp;</span>Test unknown functions</a></span></li></ul></li></ul></div>"
   ]
  },
  {
   "cell_type": "markdown",
   "metadata": {},
   "source": [
    "# Hello world\n",
    "\n",
    "To run the codes you can use the keyboard combination CTRL+Enter, or SHIFT+Enter to run the code and go to the next cell."
   ]
  },
  {
   "cell_type": "code",
   "execution_count": 1,
   "metadata": {},
   "outputs": [
    {
     "name": "stdout",
     "output_type": "stream",
     "text": [
      "Hello world!\n",
      "\n",
      "Hello world!\n"
     ]
    }
   ],
   "source": [
    "print(\"Hello world!\") # Shows in the screen the phrase Hello world!\n",
    "print()\n",
    "print('Hello world!')"
   ]
  },
  {
   "cell_type": "markdown",
   "metadata": {},
   "source": [
    "Note that there is no difference between \" \" and ' '. But if you want to print something with ' you have to do it inside \"\"."
   ]
  },
  {
   "cell_type": "code",
   "execution_count": 2,
   "metadata": {},
   "outputs": [
    {
     "name": "stdout",
     "output_type": "stream",
     "text": [
      "Don't\n"
     ]
    }
   ],
   "source": [
    "print(\"Don't\")"
   ]
  },
  {
   "cell_type": "markdown",
   "metadata": {},
   "source": [
    "# Getting help\n",
    "\n",
    "you can use the keyboard combination **Shift+Tab** inside the brackets of the function to get help.\n",
    "\n",
    "Also you cand write **help()** or **?**."
   ]
  },
  {
   "cell_type": "code",
   "execution_count": 3,
   "metadata": {},
   "outputs": [
    {
     "name": "stdout",
     "output_type": "stream",
     "text": [
      "Help on built-in function print in module builtins:\n",
      "\n",
      "print(...)\n",
      "    print(value, ..., sep=' ', end='\\n', file=sys.stdout, flush=False)\n",
      "    \n",
      "    Prints the values to a stream, or to sys.stdout by default.\n",
      "    Optional keyword arguments:\n",
      "    file:  a file-like object (stream); defaults to the current sys.stdout.\n",
      "    sep:   string inserted between values, default a space.\n",
      "    end:   string appended after the last value, default a newline.\n",
      "    flush: whether to forcibly flush the stream.\n",
      "\n"
     ]
    }
   ],
   "source": [
    "help(print)"
   ]
  },
  {
   "cell_type": "code",
   "execution_count": 10,
   "metadata": {},
   "outputs": [],
   "source": [
    "?print"
   ]
  },
  {
   "cell_type": "markdown",
   "metadata": {},
   "source": [
    "# Differences with *Matlab*\n",
    "## Indexing\n",
    "- The first index is **0**. \n",
    "- The access to the elements is with **[ ]**. **( )** is only for functions arguments.\n",
    "\n",
    "## Exponentiation\n",
    "You need to use `**`. Example `2**8`\n",
    "\n",
    "## Object Orientation\n",
    "Most of the operations in *Python* are object oriented, for this reason it tends to be slower than *Matlab*. However, there are some libraries as [INTEL](https://software.intel.com/en-us/distribution-for-python) that helps to speed up the processing time"
   ]
  },
  {
   "cell_type": "markdown",
   "metadata": {},
   "source": [
    "# Data Types\n",
    "\n",
    "## Numerics ([Wikipedia](https://en.wikibooks.org/wiki/Python_Programming/Data_Types))\n",
    "There are 4 types:\n",
    "\n",
    "* int\n",
    "* float\n",
    "* bool\n",
    "* complex\n",
    "\n",
    "### int - Integers:\n",
    "```python\n",
    ">>> a = 1\n",
    ">>> type(a)\n",
    "<type 'int'>\n",
    "```\n",
    "\n",
    "### float - Floating-Point numbers:\n",
    "```python\n",
    ">>> a = 1.0\n",
    ">>> type(a)\n",
    "<type 'float'>\n",
    "```\n",
    "\n",
    "### boolean - True or False:\n",
    "```python\n",
    ">>> a = True\n",
    ">>> type(a)\n",
    "<type 'bool'>\n",
    "```\n",
    "\n",
    "### complex - Complex Numbers:\n",
    "```python\n",
    ">>> a = 4+3j\n",
    ">>> type(a)\n",
    "<type 'complex'>\n",
    "```\n",
    "## Strings\n",
    "\n",
    "Strings they are immutable sets of characters. Strings are always enclosed in single or double quotes.\n",
    "```python\n",
    ">>> a = 'This is an string'\n",
    ">>> a = \"This is also an string\"\n",
    ">>> type(a)\n",
    "<class 'str'>\n",
    "```\n",
    "\n",
    "### *Escape Characters*\n",
    "Are special sequences that modify the behavior if a string. You can find a lisi in this [link](https://linuxconfig.org/list-of-python-escape-sequence-characters-with-examples).\n",
    "\n",
    "Example:"
   ]
  },
  {
   "cell_type": "code",
   "execution_count": 5,
   "metadata": {},
   "outputs": [
    {
     "name": "stdout",
     "output_type": "stream",
     "text": [
      "Hello\tNew\n",
      "world!\n"
     ]
    }
   ],
   "source": [
    "print('Hello\\tNew\\nworld!')"
   ]
  },
  {
   "cell_type": "markdown",
   "metadata": {},
   "source": [
    "### *raw* strings\n",
    "\n",
    "Suppose you want to print the string 'Hello\\nworld!' without text separation. This can be done using a *raw string*, which is created simply by placing an *r* before the quotation marks."
   ]
  },
  {
   "cell_type": "code",
   "execution_count": 6,
   "metadata": {},
   "outputs": [
    {
     "name": "stdout",
     "output_type": "stream",
     "text": [
      "Hello\\nworld!\n",
      "\\abc\n"
     ]
    }
   ],
   "source": [
    "print(r'Hello\\nworld!')\n",
    "print(r'\\abc')"
   ]
  },
  {
   "cell_type": "markdown",
   "metadata": {},
   "source": [
    "## Objects\n",
    "\n",
    "Everything in Python is an object with its own properties and functions/methods. You can get information about an object using the **dir** command. This lists all methods and properties of the object. Properties that begin with \\_\\_ are private and it is better not to touch them unless you know what you are doing. The others are public, and can be used as you please."
   ]
  },
  {
   "cell_type": "code",
   "execution_count": 7,
   "metadata": {
    "scrolled": true
   },
   "outputs": [
    {
     "data": {
      "text/plain": [
       "['__add__',\n",
       " '__class__',\n",
       " '__contains__',\n",
       " '__delattr__',\n",
       " '__dir__',\n",
       " '__doc__',\n",
       " '__eq__',\n",
       " '__format__',\n",
       " '__ge__',\n",
       " '__getattribute__',\n",
       " '__getitem__',\n",
       " '__getnewargs__',\n",
       " '__gt__',\n",
       " '__hash__',\n",
       " '__init__',\n",
       " '__init_subclass__',\n",
       " '__iter__',\n",
       " '__le__',\n",
       " '__len__',\n",
       " '__lt__',\n",
       " '__mod__',\n",
       " '__mul__',\n",
       " '__ne__',\n",
       " '__new__',\n",
       " '__reduce__',\n",
       " '__reduce_ex__',\n",
       " '__repr__',\n",
       " '__rmod__',\n",
       " '__rmul__',\n",
       " '__setattr__',\n",
       " '__sizeof__',\n",
       " '__str__',\n",
       " '__subclasshook__',\n",
       " 'capitalize',\n",
       " 'casefold',\n",
       " 'center',\n",
       " 'count',\n",
       " 'encode',\n",
       " 'endswith',\n",
       " 'expandtabs',\n",
       " 'find',\n",
       " 'format',\n",
       " 'format_map',\n",
       " 'index',\n",
       " 'isalnum',\n",
       " 'isalpha',\n",
       " 'isdecimal',\n",
       " 'isdigit',\n",
       " 'isidentifier',\n",
       " 'islower',\n",
       " 'isnumeric',\n",
       " 'isprintable',\n",
       " 'isspace',\n",
       " 'istitle',\n",
       " 'isupper',\n",
       " 'join',\n",
       " 'ljust',\n",
       " 'lower',\n",
       " 'lstrip',\n",
       " 'maketrans',\n",
       " 'partition',\n",
       " 'replace',\n",
       " 'rfind',\n",
       " 'rindex',\n",
       " 'rjust',\n",
       " 'rpartition',\n",
       " 'rsplit',\n",
       " 'rstrip',\n",
       " 'split',\n",
       " 'splitlines',\n",
       " 'startswith',\n",
       " 'strip',\n",
       " 'swapcase',\n",
       " 'title',\n",
       " 'translate',\n",
       " 'upper',\n",
       " 'zfill']"
      ]
     },
     "execution_count": 7,
     "metadata": {},
     "output_type": "execute_result"
    }
   ],
   "source": [
    "dir('Hello')"
   ]
  },
  {
   "cell_type": "code",
   "execution_count": 8,
   "metadata": {},
   "outputs": [
    {
     "data": {
      "text/plain": [
       "['__call__',\n",
       " '__class__',\n",
       " '__delattr__',\n",
       " '__dir__',\n",
       " '__doc__',\n",
       " '__eq__',\n",
       " '__format__',\n",
       " '__ge__',\n",
       " '__getattribute__',\n",
       " '__gt__',\n",
       " '__hash__',\n",
       " '__init__',\n",
       " '__init_subclass__',\n",
       " '__le__',\n",
       " '__lt__',\n",
       " '__module__',\n",
       " '__name__',\n",
       " '__ne__',\n",
       " '__new__',\n",
       " '__qualname__',\n",
       " '__reduce__',\n",
       " '__reduce_ex__',\n",
       " '__repr__',\n",
       " '__self__',\n",
       " '__setattr__',\n",
       " '__sizeof__',\n",
       " '__str__',\n",
       " '__subclasshook__',\n",
       " '__text_signature__']"
      ]
     },
     "execution_count": 8,
     "metadata": {},
     "output_type": "execute_result"
    }
   ],
   "source": [
    "dir(print)"
   ]
  },
  {
   "cell_type": "markdown",
   "metadata": {},
   "source": [
    "### Using the internal properties and methods\n",
    "\n",
    "You can acces to a propertie/method by using `object.propertie/method`.\n",
    "\n",
    "Example:"
   ]
  },
  {
   "cell_type": "code",
   "execution_count": 9,
   "metadata": {},
   "outputs": [
    {
     "name": "stdout",
     "output_type": "stream",
     "text": [
      "True\n",
      "False\n"
     ]
    }
   ],
   "source": [
    "print('1'.isdecimal())\n",
    "print('A1'.isdecimal())"
   ]
  },
  {
   "cell_type": "markdown",
   "metadata": {},
   "source": [
    "And more examples:"
   ]
  },
  {
   "cell_type": "code",
   "execution_count": 10,
   "metadata": {},
   "outputs": [
    {
     "name": "stdout",
     "output_type": "stream",
     "text": [
      "True\n",
      "False\n",
      "['Hello', 'world!']\n",
      "hello world!\n",
      "Hello world!\n",
      "Herro worrd!\n"
     ]
    }
   ],
   "source": [
    "print('Hello world!'.endswith('!'))\n",
    "print('Hello world!'.startswith('a'))\n",
    "print('Hello world!'.split(' '))\n",
    "print('HELLO WORLD!'.lower())\n",
    "print('Hello world!      '.rstrip())\n",
    "print('Hello world!'.replace('l','r'))"
   ]
  },
  {
   "cell_type": "markdown",
   "metadata": {},
   "source": [
    "# Exercise\n",
    "## Use of print() method\n",
    "Print your name, age, and nationality on the screen. Each of the fields must be on a new line and the value of each field must be tabulated. Example:\n",
    "\n",
    "    Name:\t\tJhair Acosta \n",
    "    Age:\t\t 29\n",
    "    Nationality: Colombia"
   ]
  },
  {
   "cell_type": "code",
   "execution_count": 11,
   "metadata": {
    "code_folding": [],
    "collapsed": true,
    "jupyter": {
     "outputs_hidden": true
    }
   },
   "outputs": [],
   "source": [
    "# Your code goes here"
   ]
  },
  {
   "cell_type": "markdown",
   "metadata": {},
   "source": [
    "## Test unknown functions\n",
    "Get the list of methods/functions of *string* variables, choose 3 available methods, and test them in any string."
   ]
  },
  {
   "cell_type": "code",
   "execution_count": 12,
   "metadata": {
    "collapsed": true,
    "jupyter": {
     "outputs_hidden": true
    }
   },
   "outputs": [],
   "source": [
    "# Your code goes here"
   ]
  }
 ],
 "metadata": {
  "hide_input": false,
  "kernelspec": {
   "display_name": "Python 3",
   "language": "python",
   "name": "python3"
  },
  "language_info": {
   "codemirror_mode": {
    "name": "ipython",
    "version": 3
   },
   "file_extension": ".py",
   "mimetype": "text/x-python",
   "name": "python",
   "nbconvert_exporter": "python",
   "pygments_lexer": "ipython3",
   "version": "3.7.3"
  },
  "toc": {
   "base_numbering": 1,
   "nav_menu": {},
   "number_sections": true,
   "sideBar": true,
   "skip_h1_title": false,
   "title_cell": "Index",
   "title_sidebar": "Index",
   "toc_cell": true,
   "toc_position": {
    "height": "calc(100% - 180px)",
    "left": "10px",
    "top": "150px",
    "width": "384px"
   },
   "toc_section_display": true,
   "toc_window_display": true
  },
  "varInspector": {
   "cols": {
    "lenName": 16,
    "lenType": 16,
    "lenVar": 40
   },
   "kernels_config": {
    "python": {
     "delete_cmd_postfix": "",
     "delete_cmd_prefix": "del ",
     "library": "var_list.py",
     "varRefreshCmd": "print(var_dic_list())"
    },
    "r": {
     "delete_cmd_postfix": ") ",
     "delete_cmd_prefix": "rm(",
     "library": "var_list.r",
     "varRefreshCmd": "cat(var_dic_list()) "
    }
   },
   "types_to_exclude": [
    "module",
    "function",
    "builtin_function_or_method",
    "instance",
    "_Feature"
   ],
   "window_display": false
  }
 },
 "nbformat": 4,
 "nbformat_minor": 4
}

{
 "cells": [
  {
   "cell_type": "markdown",
   "metadata": {
    "toc": true
   },
   "source": [
    "<h1>Index<span class=\"tocSkip\"></span></h1>\n",
    "<div class=\"toc\"><ul class=\"toc-item\"><li><span><a href=\"#Introduction\" data-toc-modified-id=\"Introduction-1\"><span class=\"toc-item-num\">1&nbsp;&nbsp;</span>Introduction</a></span><ul class=\"toc-item\"><li><span><a href=\"#pip\" data-toc-modified-id=\"pip-1.1\"><span class=\"toc-item-num\">1.1&nbsp;&nbsp;</span><em>pip</em></a></span></li><li><span><a href=\"#conda\" data-toc-modified-id=\"conda-1.2\"><span class=\"toc-item-num\">1.2&nbsp;&nbsp;</span><em>conda</em></a></span></li></ul></li><li><span><a href=\"#Using-any-package\" data-toc-modified-id=\"Using-any-package-2\"><span class=\"toc-item-num\">2&nbsp;&nbsp;</span>Using any package</a></span></li><li><span><a href=\"#glob,-os\" data-toc-modified-id=\"glob,-os-3\"><span class=\"toc-item-num\">3&nbsp;&nbsp;</span><em>glob</em>, <em>os</em></a></span></li></ul></div>"
   ]
  },
  {
   "cell_type": "markdown",
   "metadata": {},
   "source": [
    "# Introduction\n",
    "\n",
    "One of Python's great strengths is its very complete internal library and extensive package ecosystem. It is difficult to think of a package that was not made, and if it was not, anyone can publish a package. In addition, it is very easy to install packages. This is done in a main way (pip), and in a complementary way (conda).\n",
    "\n",
    "## *pip*\n",
    "\n",
    "The main method of installing packages is by * pip *, which means *pip installs packages*. The installation syntax to be used in the command prompt is:\n",
    "\n",
    "    pip install <nome do pacote>\n",
    "\n",
    "example:\n",
    "\n",
    "    pip install sympy\n",
    "\n",
    "## *conda*\n",
    "\n",
    "Conda installs any package in conda environments, and pip installs Python packages in any environment. This may not make much sense, but basically, if you want to install a new package and you have Anaconda installed, use conda, possibly with the conda-forge option. If not, use pip. Here, the packages that will be installed are quite simple, and the pip is enough.\n",
    "\n",
    "    conda install <nome do pacote>\n",
    "\n",
    "\n",
    "# Using any package\n",
    "\n",
    "To start using a package, you need to use the **import** command. There are several ways this can be done\"\n",
    "\n",
    "1. import packageName\n",
    "2. import packageName as anyWord\n",
    "3. from packageName import packagePart\n",
    "\n",
    "Examples:"
   ]
  },
  {
   "cell_type": "code",
   "execution_count": 1,
   "metadata": {},
   "outputs": [
    {
     "data": {
      "image/png": "[encoded data removed]",
      "text/plain": [
       "<matplotlib.figure.Figure at 0x23d3af10cc0>"
      ]
     },
     "metadata": {},
     "output_type": "display_data"
    },
    {
     "name": "stdout",
     "output_type": "stream",
     "text": [
      "[1 2 3]\n",
      "   0\n",
      "0  1\n",
      "1  2\n",
      "2  3\n"
     ]
    }
   ],
   "source": [
    "import numpy as np\n",
    "from pandas import DataFrame\n",
    "import matplotlib.pyplot\n",
    "\n",
    "array = np.array([1,2,3])\n",
    "\n",
    "dataFrame = DataFrame(array)\n",
    "\n",
    "matplotlib.pyplot.figure()\n",
    "matplotlib.pyplot.scatter(1,2)\n",
    "matplotlib.pyplot.show()\n",
    "\n",
    "print(array)\n",
    "print(dataFrame)"
   ]
  },
  {
   "cell_type": "markdown",
   "metadata": {},
   "source": [
    "# *glob*, *os*\n",
    "\n",
    "These two packages are included with Python.\n",
    "\n",
    "The function of glob is to produce lists that contain filenames by following a certain rule. It is widely used to, for example, create a list with all the names of the exsimulationsperiments to be treated.\n",
    "\n",
    "The function of os is to provide general functions for operating system operations, be it Windows, Linux or Mac. This package can be used to rename files and also to change the active directory (where Python first looks for files).\n",
    "\n",
    "In this example, we will change the current directory to the directory containing the files, and then create a list of their names. Then the files will be renamed."
   ]
  },
  {
   "cell_type": "code",
   "execution_count": 2,
   "metadata": {
    "collapsed": true
   },
   "outputs": [],
   "source": [
    "import os\n",
    "import glob"
   ]
  },
  {
   "cell_type": "code",
   "execution_count": 3,
   "metadata": {},
   "outputs": [
    {
     "name": "stdout",
     "output_type": "stream",
     "text": [
      "C:\\Users\\jsacostas\\Dropbox\\Python\\Course-Python-PSCAD\n",
      "C:\\Users\\jsacostas\\Dropbox\\Python\\Course-Python-PSCAD\\dados-1\n"
     ]
    }
   ],
   "source": [
    "print(os.getcwd())\n",
    "old_directory = os.getcwd()\n",
    "os.chdir(r'./dados-1')  # '.' means the actual directory\n",
    "print(os.getcwd())"
   ]
  },
  {
   "cell_type": "markdown",
   "metadata": {},
   "source": [
    "Now that we have changed directories, we can easily access the files. For that, let's use glob."
   ]
  },
  {
   "cell_type": "code",
   "execution_count": 4,
   "metadata": {},
   "outputs": [
    {
     "data": {
      "text/plain": [
       "['37.dat',\n",
       " '38.dat',\n",
       " '39.dat',\n",
       " '40.dat',\n",
       " '41.dat',\n",
       " '42.dat',\n",
       " '43.dat',\n",
       " '44.dat',\n",
       " '45.dat']"
      ]
     },
     "execution_count": 4,
     "metadata": {},
     "output_type": "execute_result"
    }
   ],
   "source": [
    "files = glob.glob('*.dat')\n",
    "files"
   ]
  },
  {
   "cell_type": "markdown",
   "metadata": {},
   "source": [
    "As we can see, there are 9 files with some little descriptive names. Let's now improve their description. This is useful because, when dealing with one of the files, we can refer to its name to, for example, put in the caption of a picture, without having to set it separately.\n",
    "\n",
    "First we start by defining the new names and checking if everything is right."
   ]
  },
  {
   "cell_type": "code",
   "execution_count": 5,
   "metadata": {},
   "outputs": [
    {
     "data": {
      "text/plain": [
       "['Sim37.dat',\n",
       " 'Sim38.dat',\n",
       " 'Sim39.dat',\n",
       " 'Sim40.dat',\n",
       " 'Sim41.dat',\n",
       " 'Sim42.dat',\n",
       " 'Sim43.dat',\n",
       " 'Sim44.dat',\n",
       " 'Sim45.dat']"
      ]
     },
     "execution_count": 5,
     "metadata": {},
     "output_type": "execute_result"
    }
   ],
   "source": [
    "newNames = ['Sim' + i for i in files]\n",
    "newNames"
   ]
  },
  {
   "cell_type": "markdown",
   "metadata": {},
   "source": [
    "We now change the file names to these new names."
   ]
  },
  {
   "cell_type": "code",
   "execution_count": 6,
   "metadata": {
    "collapsed": true
   },
   "outputs": [],
   "source": [
    "for old, new in zip(files, newNames):\n",
    "    os.rename(old, new)"
   ]
  },
  {
   "cell_type": "code",
   "execution_count": 7,
   "metadata": {},
   "outputs": [
    {
     "data": {
      "text/plain": [
       "['Sim37.dat',\n",
       " 'Sim38.dat',\n",
       " 'Sim39.dat',\n",
       " 'Sim40.dat',\n",
       " 'Sim41.dat',\n",
       " 'Sim42.dat',\n",
       " 'Sim43.dat',\n",
       " 'Sim44.dat',\n",
       " 'Sim45.dat']"
      ]
     },
     "execution_count": 7,
     "metadata": {},
     "output_type": "execute_result"
    }
   ],
   "source": [
    "glob.glob('*.dat')"
   ]
  },
  {
   "cell_type": "markdown",
   "metadata": {},
   "source": [
    "To reset the names to their original format, run the following command which is a reversal of the previous command."
   ]
  },
  {
   "cell_type": "code",
   "execution_count": 8,
   "metadata": {
    "collapsed": true
   },
   "outputs": [],
   "source": [
    "for old, new in zip(newNames, files):\n",
    "    os.rename(old, new)"
   ]
  },
  {
   "cell_type": "markdown",
   "metadata": {},
   "source": [
    "You can return to the original directory using:"
   ]
  },
  {
   "cell_type": "code",
   "execution_count": 9,
   "metadata": {},
   "outputs": [
    {
     "data": {
      "text/plain": [
       "'C:\\\\Users\\\\jsacostas\\\\Dropbox\\\\Python\\\\Course-Python-PSCAD'"
      ]
     },
     "execution_count": 9,
     "metadata": {},
     "output_type": "execute_result"
    }
   ],
   "source": [
    "os.chdir(old_directory)\n",
    "os.getcwd()"
   ]
  }
 ],
 "metadata": {
  "hide_input": false,
  "kernelspec": {
   "display_name": "Python 3",
   "language": "python",
   "name": "python3"
  },
  "language_info": {
   "codemirror_mode": {
    "name": "ipython",
    "version": 3
   },
   "file_extension": ".py",
   "mimetype": "text/x-python",
   "name": "python",
   "nbconvert_exporter": "python",
   "pygments_lexer": "ipython3",
   "version": "3.7.3"
  },
  "toc": {
   "base_numbering": 1,
   "nav_menu": {},
   "number_sections": true,
   "sideBar": true,
   "skip_h1_title": false,
   "title_cell": "Index",
   "title_sidebar": "Index",
   "toc_cell": true,
   "toc_position": {},
   "toc_section_display": true,
   "toc_window_display": true
  },
  "varInspector": {
   "cols": {
    "lenName": 16,
    "lenType": 16,
    "lenVar": 40
   },
   "kernels_config": {
    "python": {
     "delete_cmd_postfix": "",
     "delete_cmd_prefix": "del ",
     "library": "var_list.py",
     "varRefreshCmd": "print(var_dic_list())"
    },
    "r": {
     "delete_cmd_postfix": ") ",
     "delete_cmd_prefix": "rm(",
     "library": "var_list.r",
     "varRefreshCmd": "cat(var_dic_list()) "
    }
   },
   "oldHeight": 121.77778,
   "position": {
    "height": "40px",
    "left": "1863.33px",
    "right": "20px",
    "top": "120px",
    "width": "250px"
   },
   "types_to_exclude": [
    "module",
    "function",
    "builtin_function_or_method",
    "instance",
    "_Feature"
   ],
   "varInspector_section_display": "none",
   "window_display": false
  }
 },
 "nbformat": 4,
 "nbformat_minor": 2
}

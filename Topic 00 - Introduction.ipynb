{
 "cells": [
  {
   "cell_type": "markdown",
   "metadata": {
    "toc": true
   },
   "source": [
    "<h1>Index<span class=\"tocSkip\"></span></h1>\n",
    "<div class=\"toc\"><ul class=\"toc-item\"><li><span><a href=\"#Introduction\" data-toc-modified-id=\"Introduction-1\"><span class=\"toc-item-num\">1&nbsp;&nbsp;</span>Introduction</a></span><ul class=\"toc-item\"><li><span><a href=\"#Objective\" data-toc-modified-id=\"Objective-1.1\"><span class=\"toc-item-num\">1.1&nbsp;&nbsp;</span>Objective</a></span></li><li><span><a href=\"#Why-Python?\" data-toc-modified-id=\"Why-Python?-1.2\"><span class=\"toc-item-num\">1.2&nbsp;&nbsp;</span>Why Python?</a></span></li></ul></li><li><span><a href=\"#About-Python\" data-toc-modified-id=\"About-Python-2\"><span class=\"toc-item-num\">2&nbsp;&nbsp;</span>About Python</a></span></li><li><span><a href=\"#nbextensions\" data-toc-modified-id=\"nbextensions-3\"><span class=\"toc-item-num\">3&nbsp;&nbsp;</span>nbextensions</a></span></li></ul></div>"
   ]
  },
  {
   "cell_type": "markdown",
   "metadata": {},
   "source": [
    "# Introduction\n",
    "\n",
    "## Objective\n",
    "Teach the basic principles to code in Python, aiming to use it to solve electromagnetic problems and interact with ATP and PSCAD.\n",
    "\n",
    "## Why Python?\n",
    "\n",
    "- In the academic environment we have access to different paid programming software. However, in the industry there are often no programs like Matlab available. In this context it is necessary to learn to use free programming languages. *R* and *Python* are the most commonly used free programming languages at this time. Because they are free, the development community is very large and they are constantly working on packages to solve many tasks. \n",
    "\n",
    "- *PSCAD* has an automation library runing with *Python*  ([Automation Library](https://hvdc.ca/pscad/automationlibrary)). This library allows to run several controlled simulations, change parameters, save files, graphs, etc.\n",
    "\n",
    "In the end of this course you will be able to:\n",
    "\n",
    "* Rename several files\n",
    "* Plot results\n",
    "* Run *PSCAD* from *Python* and automate simulations.\n",
    "* Replace *Matlab*\n",
    "\n",
    "![PSCAD](imagens/PSCADAutoLib.jpg)\n",
    "\n",
    "# About Python\n",
    "\n",
    "Python is a very popular interpreted language in the scientific environment because of its simplicity. In addition, it is completely free and compatible with Windows, Linux and Mac. It is recommended that you install the distribution. [Anaconda](https://www.anaconda.com/download/). The advantage of the Anaconda package is that it comes with many pre-installed scientific packages. \n",
    "\n",
    "This course has been done using *Jupyter Notebooks*. You can access to it by using the command prompt and then writing ```jupyter notebook``` or ```jupyter lab```. Here you can find the  jupyter lab [help](https://jupyterlab.readthedocs.io/en/stable/). \n",
    "\n",
    "You can use alternate text editors or IDEs for scripting, such as [Sublim Text](https://www.sublimetext.com/), [Notepad ++](https://notepad-plus-plus.org/download/v7.5.8.html), [Spyder](https://pythonhosted.org/spyder/#) etc, but the Jupyter Notebook IDE has the advantage of merging code and results, keeping data and thinking organized.\n",
    "\n",
    "In jupyter notebook you can download the corresponding .py file. This file can be run on the terminal by typing ```python script.py```.\n",
    "\n",
    "# nbextensions\n",
    "There are some extra options for Jupyter Notebooks that can be installed, called nbextensions. During this tutorial, I will use some extra tools from these extensions. For example, creating a summary automatically forms part of that package. To install nbextensions, run the following code on the console.\n",
    "\n",
    "    conda install -c conda-forge jupyter_contrib_nbextensions\n",
    "\n",
    "Depois configure-as pelo browser.\n",
    "\n",
    "Some really usefull extensions are scratchpad and Variable Inspector"
   ]
  }
 ],
 "metadata": {
  "hide_input": false,
  "kernelspec": {
   "display_name": "Python 3",
   "language": "python",
   "name": "python3"
  },
  "language_info": {
   "codemirror_mode": {
    "name": "ipython",
    "version": 3
   },
   "file_extension": ".py",
   "mimetype": "text/x-python",
   "name": "python",
   "nbconvert_exporter": "python",
   "pygments_lexer": "ipython3",
   "version": "3.7.3"
  },
  "latex_metadata": {
   "author": "Karl Jan Clinckspoor"
  },
  "toc": {
   "base_numbering": 1,
   "nav_menu": {},
   "number_sections": true,
   "sideBar": true,
   "skip_h1_title": false,
   "title_cell": "Index",
   "title_sidebar": "Index",
   "toc_cell": true,
   "toc_position": {},
   "toc_section_display": true,
   "toc_window_display": true
  },
  "varInspector": {
   "cols": {
    "lenName": 16,
    "lenType": 16,
    "lenVar": 40
   },
   "kernels_config": {
    "python": {
     "delete_cmd_postfix": "",
     "delete_cmd_prefix": "del ",
     "library": "var_list.py",
     "varRefreshCmd": "print(var_dic_list())"
    },
    "r": {
     "delete_cmd_postfix": ") ",
     "delete_cmd_prefix": "rm(",
     "library": "var_list.r",
     "varRefreshCmd": "cat(var_dic_list()) "
    }
   },
   "types_to_exclude": [
    "module",
    "function",
    "builtin_function_or_method",
    "instance",
    "_Feature"
   ],
   "window_display": false
  }
 },
 "nbformat": 4,
 "nbformat_minor": 4
}

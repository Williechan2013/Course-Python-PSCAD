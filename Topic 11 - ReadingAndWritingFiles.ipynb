{
 "cells": [
  {
   "cell_type": "markdown",
   "metadata": {
    "toc": true
   },
   "source": [
    "<h1>Index<span class=\"tocSkip\"></span></h1>\n",
    "<div class=\"toc\"><ul class=\"toc-item\"><li><span><a href=\"#Modifying-text-files\" data-toc-modified-id=\"Modifying-text-files-1\"><span class=\"toc-item-num\">1&nbsp;&nbsp;</span>Modifying text files</a></span><ul class=\"toc-item\"><li><span><a href=\"#Writing-files\" data-toc-modified-id=\"Writing-files-1.1\"><span class=\"toc-item-num\">1.1&nbsp;&nbsp;</span>Writing files</a></span></li><li><span><a href=\"#Reading-text-files\" data-toc-modified-id=\"Reading-text-files-1.2\"><span class=\"toc-item-num\">1.2&nbsp;&nbsp;</span>Reading text files</a></span></li><li><span><a href=\"#Reading-and-writing-files\" data-toc-modified-id=\"Reading-and-writing-files-1.3\"><span class=\"toc-item-num\">1.3&nbsp;&nbsp;</span>Reading and writing files</a></span></li></ul></li><li><span><a href=\"#Exercise\" data-toc-modified-id=\"Exercise-2\"><span class=\"toc-item-num\">2&nbsp;&nbsp;</span>Exercise</a></span></li></ul></div>"
   ]
  },
  {
   "cell_type": "markdown",
   "metadata": {},
   "source": [
    "# Modifying text files\n",
    "We can read and write files using the method *open(fileName, options)*\n",
    "The options that we can use are:\n",
    "* r - read \n",
    "* w - write\n",
    "* a - write after the end of the file\n",
    "* + - read and write\n",
    "* b write in binary mode\n",
    "\n",
    "## Writing files\n",
    "Let's create our first text file. For that it is necessary to open the file in writing mode and use the method *write(string)* to write the desired text. After writing the file it is necessary to close it using the *close()* method. Otherwise, they may have memory problems with very large files."
   ]
  },
  {
   "cell_type": "code",
   "execution_count": 1,
   "metadata": {
    "collapsed": true
   },
   "outputs": [],
   "source": [
    "folder = \"Text files/\"\n",
    "file = open( folder + 'testfile.txt','w') \n",
    " \n",
    "file.write('Hello\\n') \n",
    "file.write('This is our first file\\n') \n",
    "file.write('It is very simple\\n') \n",
    "file.write('But can be used to learn\\n') \n",
    " \n",
    "file.close() "
   ]
  },
  {
   "cell_type": "markdown",
   "metadata": {},
   "source": [
    "## Reading text files\n",
    "Reading text files is similar to writing. The difference is the use of the *r* option.\n",
    "Note that each of the lines is read separately."
   ]
  },
  {
   "cell_type": "code",
   "execution_count": 2,
   "metadata": {},
   "outputs": [
    {
     "name": "stdout",
     "output_type": "stream",
     "text": [
      "Hello\n",
      "This is our first file\n",
      "It is very simple\n",
      "But can be used to learn\n"
     ]
    }
   ],
   "source": [
    "file = open(folder + 'testfile.txt', 'r') \n",
    "for line in file: \n",
    "    print (line, end = '')\n",
    "file.close() "
   ]
  },
  {
   "cell_type": "markdown",
   "metadata": {},
   "source": [
    "## Reading and writing files\n",
    "\n",
    "To replace something in the text it is necessary to first read the file and then write. Different methods can be used to write the desired one. For example, a specific word can be replaced by another."
   ]
  },
  {
   "cell_type": "code",
   "execution_count": 3,
   "metadata": {
    "collapsed": true
   },
   "outputs": [],
   "source": [
    "s = open(folder + 'testfile.txt').read()\n",
    "s = s.replace('Hello','Bonjour')\n",
    "\n",
    "f = open(folder + 'testfile.txt','w')\n",
    "f.write(s)\n",
    "f.close() "
   ]
  },
  {
   "cell_type": "markdown",
   "metadata": {},
   "source": [
    "A useful way to modify files is to make a copy of the original file and modify the new file. Notice in the following code that a different syntax was used. With this syntax, after doing the necessary operations, python uses the *close()* method automatically."
   ]
  },
  {
   "cell_type": "code",
   "execution_count": 4,
   "metadata": {
    "collapsed": true
   },
   "outputs": [],
   "source": [
    "with open(folder + 'testfile.txt', 'r')  as rf:\n",
    "    with open(folder + 'testfile_copy.txt', 'w')  as wf:\n",
    "        for line in rf:\n",
    "            idLine = line.find(' is ')\n",
    "            newWord = ' et '\n",
    "            if idLine > -1:\n",
    "                line = line[0:idLine] + newWord + line[idLine+len(newWord):] \n",
    "            wf.write(line)"
   ]
  },
  {
   "cell_type": "markdown",
   "metadata": {},
   "source": [
    "# Exercise\n",
    "Create a file named cases.out writing in each line the number of the case and a resistance value.\n",
    "Example:\n",
    "```Matlab\n",
    "1 0.1\n",
    "2 1\n",
    "3 10\n",
    "4 100\n",
    "5 1000\n",
    "```"
   ]
  },
  {
   "cell_type": "code",
   "execution_count": null,
   "metadata": {},
   "outputs": [],
   "source": []
  }
 ],
 "metadata": {
  "kernelspec": {
   "display_name": "Python 3",
   "language": "python",
   "name": "python3"
  },
  "language_info": {
   "codemirror_mode": {
    "name": "ipython",
    "version": 3
   },
   "file_extension": ".py",
   "mimetype": "text/x-python",
   "name": "python",
   "nbconvert_exporter": "python",
   "pygments_lexer": "ipython3",
   "version": "3.7.3"
  },
  "toc": {
   "base_numbering": 1,
   "nav_menu": {},
   "number_sections": true,
   "sideBar": true,
   "skip_h1_title": false,
   "title_cell": "Index",
   "title_sidebar": "Index",
   "toc_cell": true,
   "toc_position": {},
   "toc_section_display": true,
   "toc_window_display": true
  },
  "varInspector": {
   "cols": {
    "lenName": 16,
    "lenType": 16,
    "lenVar": 40
   },
   "kernels_config": {
    "python": {
     "delete_cmd_postfix": "",
     "delete_cmd_prefix": "del ",
     "library": "var_list.py",
     "varRefreshCmd": "print(var_dic_list())"
    },
    "r": {
     "delete_cmd_postfix": ") ",
     "delete_cmd_prefix": "rm(",
     "library": "var_list.r",
     "varRefreshCmd": "cat(var_dic_list()) "
    }
   },
   "types_to_exclude": [
    "module",
    "function",
    "builtin_function_or_method",
    "instance",
    "_Feature"
   ],
   "window_display": false
  }
 },
 "nbformat": 4,
 "nbformat_minor": 2
}
